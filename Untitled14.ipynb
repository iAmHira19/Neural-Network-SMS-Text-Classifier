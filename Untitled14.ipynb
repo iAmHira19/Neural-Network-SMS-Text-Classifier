{
  "nbformat": 4,
  "nbformat_minor": 0,
  "metadata": {
    "colab": {
      "provenance": [],
      "authorship_tag": "ABX9TyNkjW/0s7GAUAzFX6wv9KLD",
      "include_colab_link": true
    },
    "kernelspec": {
      "name": "python3",
      "display_name": "Python 3"
    },
    "language_info": {
      "name": "python"
    }
  },
  "cells": [
    {
      "cell_type": "markdown",
      "metadata": {
        "id": "view-in-github",
        "colab_type": "text"
      },
      "source": [
        "<a href=\"https://colab.research.google.com/github/iAmHira19/Neural-Network-SMS-Text-Classifier/blob/main/Untitled14.ipynb\" target=\"_parent\"><img src=\"https://colab.research.google.com/assets/colab-badge.svg\" alt=\"Open In Colab\"/></a>"
      ]
    },
    {
      "cell_type": "code",
      "execution_count": 3,
      "metadata": {
        "colab": {
          "base_uri": "https://localhost:8080/"
        },
        "id": "rxEQBfFGUTpi",
        "outputId": "09e4ec9a-4c03-4833-ea94-91a4e0cf0649"
      },
      "outputs": [
        {
          "output_type": "stream",
          "name": "stdout",
          "text": [
            "  label                                            message Unnamed: 2  \\\n",
            "0   ham  Go until jurong point, crazy.. Available only ...        NaN   \n",
            "1   ham                      Ok lar... Joking wif u oni...        NaN   \n",
            "2  spam  Free entry in 2 a wkly comp to win FA Cup fina...        NaN   \n",
            "3   ham  U dun say so early hor... U c already then say...        NaN   \n",
            "4   ham  Nah I don't think he goes to usf, he lives aro...        NaN   \n",
            "\n",
            "  Unnamed: 3 Unnamed: 4  \n",
            "0        NaN        NaN  \n",
            "1        NaN        NaN  \n",
            "2        NaN        NaN  \n",
            "3        NaN        NaN  \n",
            "4        NaN        NaN  \n",
            "Model Evaluation:\n",
            "               precision    recall  f1-score   support\n",
            "\n",
            "           0       0.99      1.00      0.99       949\n",
            "           1       0.99      0.93      0.96       166\n",
            "\n",
            "    accuracy                           0.99      1115\n",
            "   macro avg       0.99      0.96      0.97      1115\n",
            "weighted avg       0.99      0.99      0.99      1115\n",
            "\n",
            "Prediction for test message: [0.9999999989958184, 'spam']\n"
          ]
        }
      ],
      "source": [
        "# Import libraries\n",
        "import pandas as pd\n",
        "from sklearn.feature_extraction.text import CountVectorizer\n",
        "from sklearn.model_selection import train_test_split\n",
        "from sklearn.naive_bayes import MultinomialNB\n",
        "from sklearn.pipeline import make_pipeline\n",
        "from sklearn.metrics import classification_report\n",
        "\n",
        "# Load dataset\n",
        "url = '/content/spam.csv'  # Path to the dataset file\n",
        "data = pd.read_csv(url, encoding='latin-1')\n",
        "data = data.rename(columns={'v1': 'label', 'v2': 'message'})\n",
        "\n",
        "# Debugging: Check the first few rows of the dataset\n",
        "print(data.head())\n",
        "\n",
        "# Preprocess dataset\n",
        "data['label'] = data['label'].map({'ham': 0, 'spam': 1})\n",
        "X = data['message']\n",
        "y = data['label']\n",
        "\n",
        "# Split data into training and testing datasets\n",
        "X_train, X_test, y_train, y_test = train_test_split(X, y, test_size=0.2, random_state=0)\n",
        "\n",
        "# Create and train the model\n",
        "model = make_pipeline(CountVectorizer(), MultinomialNB())\n",
        "model.fit(X_train, y_train)\n",
        "\n",
        "# Evaluate the model\n",
        "y_pred = model.predict(X_test)\n",
        "print(\"Model Evaluation:\\n\", classification_report(y_test, y_pred))\n",
        "\n",
        "# Define the prediction function\n",
        "def predict_message(message):\n",
        "    # Predict the class and probability of the message\n",
        "    prediction = model.predict([message])[0]\n",
        "    likelihood = model.predict_proba([message])[0][1]\n",
        "    label = 'spam' if prediction == 1 else 'ham'\n",
        "    return [likelihood, label]\n",
        "\n",
        "# Test the function with debugging\n",
        "test_message = \"Congratulations! You've won a $1000 gift card. Call now to claim your prize!\"\n",
        "result = predict_message(test_message)\n",
        "print(\"Prediction for test message:\", result)\n"
      ]
    }
  ]
}